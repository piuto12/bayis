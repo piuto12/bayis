{
  "nbformat": 4,
  "nbformat_minor": 0,
  "metadata": {
    "colab": {
      "provenance": []
    },
    "kernelspec": {
      "name": "python3",
      "display_name": "Python 3"
    },
    "language_info": {
      "name": "python"
    }
  },
  "cells": [
    {
      "cell_type": "markdown",
      "source": [
        "#Write a Python function to accept a string value from the user and display the\n",
        "count of each character in that string. Sample input: Enter a string value:\n",
        "assembly Sample output: a=1, s=2, e=1, m=1, b=1, l=1, y=1"
      ],
      "metadata": {
        "id": "YBKVLlFQKBZw"
      }
    },
    {
      "cell_type": "code",
      "execution_count": 1,
      "metadata": {
        "colab": {
          "base_uri": "https://localhost:8080/",
          "height": 106
        },
        "id": "WV1AnMHWJ-B6",
        "outputId": "0f18156a-a69f-47fd-afe5-1b60cc769dc4"
      },
      "outputs": [
        {
          "output_type": "error",
          "ename": "SyntaxError",
          "evalue": "expected ':' (<ipython-input-1-c6878abb7bd0>, line 1)",
          "traceback": [
            "\u001b[0;36m  File \u001b[0;32m\"<ipython-input-1-c6878abb7bd0>\"\u001b[0;36m, line \u001b[0;32m1\u001b[0m\n\u001b[0;31m    def cha(c)\u001b[0m\n\u001b[0m              ^\u001b[0m\n\u001b[0;31mSyntaxError\u001b[0m\u001b[0;31m:\u001b[0m expected ':'\n"
          ]
        }
      ],
      "source": [
        "def cha(c):\n",
        " for i in c:\n",
        "  if i\n",
        "\n"
      ]
    },
    {
      "cell_type": "markdown",
      "source": [
        "#2. Write a Python function to find the maximum of three numbers Sample input:34,12,7 Sample output: 34"
      ],
      "metadata": {
        "id": "XF5qxIbmWB9n"
      }
    },
    {
      "cell_type": "code",
      "source": [
        "def num(a,b,c):\n",
        "   if a>b and a>c:\n",
        "    print(a,\"is the biggest\")\n",
        "   elif b>a and b>c :\n",
        "    print(b,\"is the biggest\")\n",
        "   else:\n",
        "    print(c,\"is the biggest\")\n",
        ""
      ],
      "metadata": {
        "id": "Y237MH10WJm1"
      },
      "execution_count": 48,
      "outputs": []
    },
    {
      "cell_type": "code",
      "source": [
        "x=int(input(\"enter the value:\"))\n",
        "y=int(input(\"enter the value:\"))\n",
        "z=int(input(\"enter the value:\"))\n",
        "(num(x,y,z))"
      ],
      "metadata": {
        "colab": {
          "base_uri": "https://localhost:8080/"
        },
        "id": "aw348Y6eXbqK",
        "outputId": "1e35a342-d851-4010-ec72-fb3c10fa900e"
      },
      "execution_count": 51,
      "outputs": [
        {
          "output_type": "stream",
          "name": "stdout",
          "text": [
            "enter the value:6\n",
            "enter the value:9\n",
            "enter the value:4\n",
            "9 is the biggest\n"
          ]
        }
      ]
    },
    {
      "cell_type": "markdown",
      "source": [
        "3.Write a Python function called exponent(base,exp) that returns an integer\n",
        "value of base raises to the power of exp. Sample input: Enter the base: 2\n",
        "Enter the exponent: 3 Sample output: 8"
      ],
      "metadata": {
        "id": "0xq2iAbmmKzI"
      }
    },
    {
      "cell_type": "code",
      "source": [
        "def exponent(b,a):\n",
        "  ex=b**a\n",
        "  return(ex)"
      ],
      "metadata": {
        "id": "Bj66L_XDmMjT"
      },
      "execution_count": 119,
      "outputs": []
    },
    {
      "cell_type": "code",
      "source": [
        "base=int(input(\"enter the base:\"))\n",
        "exp=int(input(\"enter the exponent:\"))\n",
        "print(exponent(base,exp))"
      ],
      "metadata": {
        "colab": {
          "base_uri": "https://localhost:8080/"
        },
        "id": "OVXcHO4LnrkL",
        "outputId": "04d2fb9b-5c9c-4abf-b614-eb1d7a1e5990"
      },
      "execution_count": 120,
      "outputs": [
        {
          "output_type": "stream",
          "name": "stdout",
          "text": [
            "enter the base:2\n",
            "enter the exponent:3\n",
            "8\n"
          ]
        }
      ]
    },
    {
      "cell_type": "markdown",
      "source": [
        "4.Write a Python function that takes a positive integer and returns the sum ofthe cube of all the positive integers smaller than the specified number.Sample input: 4 Sample output: 36."
      ],
      "metadata": {
        "id": "pKLTlcVZY1e1"
      }
    },
    {
      "cell_type": "code",
      "source": [
        "def sum(i):\n",
        " sum = 0\n",
        " for p in range(0,i):\n",
        "    sum += p**3\n",
        " return sum"
      ],
      "metadata": {
        "id": "6uc1Qs65Y_-p"
      },
      "execution_count": 72,
      "outputs": []
    },
    {
      "cell_type": "code",
      "source": [
        "d=int(input(\"enter the number\"))\n",
        "print(\"the cube of\",d,\"is\",sum(d))"
      ],
      "metadata": {
        "colab": {
          "base_uri": "https://localhost:8080/"
        },
        "id": "_SMN7uPiaCD5",
        "outputId": "58cdba63-d61a-4a73-c4d7-6999d883fd8b"
      },
      "execution_count": 73,
      "outputs": [
        {
          "output_type": "stream",
          "name": "stdout",
          "text": [
            "enter the number4\n",
            "the cube of 4 is 36\n"
          ]
        }
      ]
    },
    {
      "cell_type": "markdown",
      "source": [
        "\n",
        "6. Write a Python function to find the most frequent item in a list of numbers.\n",
        "Sample input: 2, 3, 4, 2, 5, 2 Sample output: 2\n"
      ],
      "metadata": {
        "id": "CbPaTmm1d8q8"
      }
    },
    {
      "cell_type": "code",
      "source": [],
      "metadata": {
        "id": "upNY6Vjd1lYl"
      },
      "execution_count": null,
      "outputs": []
    },
    {
      "cell_type": "markdown",
      "source": [
        "7. Write a Python function to find the sum of squares of the numbers in a list.\n",
        "Sample input: 2,1,3,1 Sample output: 15\n"
      ],
      "metadata": {
        "id": "BwgmKJXC1dje"
      }
    },
    {
      "cell_type": "code",
      "source": [
        "def a(x):\n",
        " b=0\n",
        " for i in x:\n",
        "   b=b+i**2\n",
        " print(b)"
      ],
      "metadata": {
        "id": "Ln1daJIAzTGP"
      },
      "execution_count": 158,
      "outputs": []
    },
    {
      "cell_type": "code",
      "source": [
        "li=[3,4,2,2,4]\n",
        "a(li)"
      ],
      "metadata": {
        "colab": {
          "base_uri": "https://localhost:8080/"
        },
        "id": "CrirTcOZz10s",
        "outputId": "2158a983-258a-47ce-9eca-f90c86e8d8c4"
      },
      "execution_count": 159,
      "outputs": [
        {
          "output_type": "stream",
          "name": "stdout",
          "text": [
            "49\n"
          ]
        }
      ]
    },
    {
      "cell_type": "markdown",
      "source": [
        "8. Write a Python program using for loop that will iterate from 1 to 15. For each\n",
        "iteration, check if the current number is odd or even, and display the message\n",
        "to the screen as odd or even. Sample input: 1….15 Sample output: 1-odd 2-\n",
        "even …. 15-odd"
      ],
      "metadata": {
        "id": "VFKjcQvxiZtV"
      }
    },
    {
      "cell_type": "code",
      "source": [
        "for num in range(0, 16):\n",
        "  if num%2==0:\n",
        "   print(\"the\",num,\"is a even number\")\n",
        "  else:\n",
        "   print(\"the\",num,\"is a odd number\")"
      ],
      "metadata": {
        "colab": {
          "base_uri": "https://localhost:8080/"
        },
        "id": "0z_tAaFSidl2",
        "outputId": "7eed6013-cead-49f5-d55b-859b4983cab4"
      },
      "execution_count": 87,
      "outputs": [
        {
          "output_type": "stream",
          "name": "stdout",
          "text": [
            "the 0 is a even number\n",
            "the 1 is a odd number\n",
            "the 2 is a even number\n",
            "the 3 is a odd number\n",
            "the 4 is a even number\n",
            "the 5 is a odd number\n",
            "the 6 is a even number\n",
            "the 7 is a odd number\n",
            "the 8 is a even number\n",
            "the 9 is a odd number\n",
            "the 10 is a even number\n",
            "the 11 is a odd number\n",
            "the 12 is a even number\n",
            "the 13 is a odd number\n",
            "the 14 is a even number\n",
            "the 15 is a odd number\n"
          ]
        }
      ]
    },
    {
      "cell_type": "markdown",
      "source": [
        "9. Write a Python function to convert temperatures to and from Celsius\n",
        "Fahrenheit. [Formula: c/5=f-32/9 where c=temperature in Celsius and f=\n",
        "temperature in Fahrenheit.] Sample input: Temperature in Fahrenheit =41\n",
        "Sample output: Temperature in Celsius =5 3"
      ],
      "metadata": {
        "id": "xwVv4-fTO5YD"
      }
    },
    {
      "cell_type": "code",
      "source": [
        "def far(f):\n",
        "  you= (f-32)*5/9\n",
        "  return you"
      ],
      "metadata": {
        "id": "ZTnnXyg3Lbnm"
      },
      "execution_count": 44,
      "outputs": []
    },
    {
      "cell_type": "code",
      "source": [
        "y=int(input(\"enter the Fahrenheit:\"))\n",
        "print(\"Temperature in Celsius =\",far(y))"
      ],
      "metadata": {
        "colab": {
          "base_uri": "https://localhost:8080/"
        },
        "id": "cfjHw5pQPgTL",
        "outputId": "9e1df40e-c59d-4e2f-ca83-eb55048f0c63"
      },
      "execution_count": 46,
      "outputs": [
        {
          "output_type": "stream",
          "name": "stdout",
          "text": [
            "enter the Fahrenheit:41\n",
            "Temperature in Celsius = 5.0\n"
          ]
        }
      ]
    },
    {
      "cell_type": "markdown",
      "source": [
        "10.Write a Python function to calculate the factorial of a number (a nonnegative\n",
        "integer). The function accepts the number as an argument. Sample input: 3\n",
        "Sample output: 6"
      ],
      "metadata": {
        "id": "Pmoi3NsSfC6V"
      }
    },
    {
      "cell_type": "code",
      "source": [
        "def fac(x):\n",
        "   number=1\n",
        "   for m in range (1,x+1):\n",
        "     number*=m\n",
        "   return(number)"
      ],
      "metadata": {
        "id": "_LrIIBDccv6A"
      },
      "execution_count": 100,
      "outputs": []
    },
    {
      "cell_type": "code",
      "source": [
        "v=int(input(\"enter the  factorial:\"))\n",
        "print(fac(v))"
      ],
      "metadata": {
        "colab": {
          "base_uri": "https://localhost:8080/"
        },
        "id": "tqo7zhVchE4m",
        "outputId": "87201f48-ac4c-4604-ad67-86c238169242"
      },
      "execution_count": 102,
      "outputs": [
        {
          "output_type": "stream",
          "name": "stdout",
          "text": [
            "enter the  factorial:3\n",
            "6\n"
          ]
        }
      ]
    },
    {
      "cell_type": "markdown",
      "source": [
        "11.Case Study: Grade Calculator"
      ],
      "metadata": {
        "id": "xvloiyk-qcno"
      }
    },
    {
      "cell_type": "code",
      "source": [
        "name=input( \"Students name\")\n",
        "assessments=int(input(\"Number of assessments\"))\n",
        " for i in range(0,assessments ):\n",
        "\n",
        "\n"
      ],
      "metadata": {
        "colab": {
          "base_uri": "https://localhost:8080/",
          "height": 106
        },
        "id": "fPoRACYBhr9w",
        "outputId": "2edb7bbe-50f9-490f-bc12-1958e20f0310"
      },
      "execution_count": 131,
      "outputs": [
        {
          "output_type": "error",
          "ename": "IndentationError",
          "evalue": "unexpected indent (<ipython-input-131-33a770925aa8>, line 3)",
          "traceback": [
            "\u001b[0;36m  File \u001b[0;32m\"<ipython-input-131-33a770925aa8>\"\u001b[0;36m, line \u001b[0;32m3\u001b[0m\n\u001b[0;31m    for i in range(0,assessments ):\u001b[0m\n\u001b[0m    ^\u001b[0m\n\u001b[0;31mIndentationError\u001b[0m\u001b[0;31m:\u001b[0m unexpected indent\n"
          ]
        }
      ]
    },
    {
      "cell_type": "markdown",
      "source": [
        "12.Student Record Management System"
      ],
      "metadata": {
        "id": "jBnxGj_hx4nU"
      }
    },
    {
      "cell_type": "code",
      "source": [
        "list1=[]\n",
        "name=(input(\"enter the name of new student\"))\n",
        "list1.append(name)\n",
        "print(\"ente student information\")\n",
        "a=input(\"enter the addres:\")\n",
        "m=input(\"enter the email:\")\n",
        "c=int(input(\"enter the condacte no:\"))\n",
        "d=int(input(\"enter the date of brith:\"))\n",
        "b=input(\"enter thr bload grupe:\")\n",
        "list1.append(a)\n",
        "list1.append(m)\n",
        "list1.append(c)\n",
        "list1.append(d)\n",
        "list1.append(b)\n",
        "print(list1)"
      ],
      "metadata": {
        "colab": {
          "base_uri": "https://localhost:8080/"
        },
        "id": "t813-loPsLec",
        "outputId": "adb2db15-76eb-4db2-b132-86bd0367f0c5"
      },
      "execution_count": 165,
      "outputs": [
        {
          "output_type": "stream",
          "name": "stdout",
          "text": [
            "enter the name of new studentbayis ismail\n",
            "ente student information\n",
            "enter the addres:bdkjebdkad\n",
            "enter the email:ldknakdnk\n",
            "enter the condacte no:3423452432\n",
            "enter the date of brith:235323\n",
            "enter thr bload grupe:gdg\n",
            "['bayis ismail', 'bdkjebdkad', 'ldknakdnk', 3423452432, 235323, 'gdg']\n"
          ]
        }
      ]
    },
    {
      "cell_type": "code",
      "source": [],
      "metadata": {
        "id": "QOV0bIIr1Hil"
      },
      "execution_count": 157,
      "outputs": []
    }
  ]
}